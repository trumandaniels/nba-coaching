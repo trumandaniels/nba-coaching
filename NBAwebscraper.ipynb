{
 "cells": [
  {
   "cell_type": "markdown",
   "metadata": {},
   "source": [
    "# stats.nba.com Webscraper\n",
    "## Author: Truman Daniels\n",
    "## Date: 11/13/18"
   ]
  },
  {
   "cell_type": "markdown",
   "metadata": {},
   "source": [
    "Import Statements:"
   ]
  },
  {
   "cell_type": "code",
   "execution_count": 1,
   "metadata": {},
   "outputs": [],
   "source": [
    "%matplotlib inline\n",
    "from selenium import webdriver\n",
    "import pandas as pd\n",
    "import numpy as np\n",
    "import matplotlib.pyplot as plt\n",
    "from sqlalchemy import *\n",
    "from time import sleep"
   ]
  },
  {
   "cell_type": "code",
   "execution_count": 2,
   "metadata": {},
   "outputs": [],
   "source": [
    "path_to_chromedriver = '/usr/bin/chromedriver' # Path to access a chrome driver\n",
    "browser = webdriver.Chrome(executable_path=path_to_chromedriver)"
   ]
  },
  {
   "cell_type": "code",
   "execution_count": 3,
   "metadata": {},
   "outputs": [],
   "source": [
    "url = 'https://stats.nba.com/teams'\n",
    "browser.get(url)"
   ]
  },
  {
   "cell_type": "markdown",
   "metadata": {},
   "source": [
    "Navigating the stats.nba website to the data we want (in this case I'm grabbing data about offensive and defensive open shot attempts):"
   ]
  },
  {
   "cell_type": "code",
   "execution_count": 4,
   "metadata": {},
   "outputs": [],
   "source": [
    "\n",
    "while True:\n",
    "    try:\n",
    "        #Open Menu:\n",
    "        browser.find_element_by_xpath('/html/body/main/div[1]/div/nav/div[1]/i').click()\n",
    "\n",
    "        #'teams' menu option:\n",
    "        browser.find_element_by_xpath('/html/body/main/nav/section/div[10]/h4').click()\n",
    "\n",
    "        #'shooting' menu option:\n",
    "        browser.find_element_by_xpath('/html/body/main/nav/section/section[8]/ul/li[10]/a').click()\n",
    "\n",
    "        #Shots by Closest Defender\n",
    "        browser.find_element_by_xpath('/html/body/main/nav/section/section[8]/ul/section[6]/ul/li[5]/a').click()\n",
    "\n",
    "        #Open (4-6 Feet)\n",
    "        browser.find_element_by_xpath('/html/body/main/div[2]/div/div[2]/div/div/div[1]/div[4]/div/div/label/select/option[3]').click()\n",
    "\n",
    "        #Wide Open\n",
    "        #browser.find_element_by_xpath('/html/body/main/div[2]/div/div[2]/div/div/div[1]/div[4]/div/div/label/select/option[4]').click()\n",
    "        \n",
    "        sleep(1)\n",
    "        \n",
    "    except:\n",
    "        pass\n",
    "    else:\n",
    "        break"
   ]
  },
  {
   "cell_type": "code",
   "execution_count": 5,
   "metadata": {},
   "outputs": [],
   "source": [
    "while True:\n",
    "    try:\n",
    "        #Reading the Table\n",
    "        table = browser.find_element_by_class_name('nba-stat-table__overflow')     #sometimes this line works, sometimes the bottom line works instead\n",
    "        #table = browser.find_element_by_xpath('/html/body/main/div[2]/div/div[2]/div/div/nba-stat-table/div[2]/div[1]')\n",
    "\n",
    "        sleep(1)\n",
    "        \n",
    "    except:\n",
    "        pass\n",
    "    else:\n",
    "        break"
   ]
  },
  {
   "cell_type": "code",
   "execution_count": 6,
   "metadata": {},
   "outputs": [],
   "source": [
    "#Scraping Offensive - Open (4-6 feet)\n",
    "table_html = table.get_attribute('innerHTML')\n",
    "df = pd.read_html(table_html, header=1, index_col='Team') #formatting the table nicely and reading it into memory\n",
    "off_open = df[0]\n",
    "off_open.to_csv('offopen2019.csv')"
   ]
  },
  {
   "cell_type": "code",
   "execution_count": 7,
   "metadata": {
    "scrolled": true
   },
   "outputs": [],
   "source": [
    "while True:\n",
    "    try:\n",
    "        #Wide open ()\n",
    "        browser.find_element_by_xpath('/html/body/main/div[2]/div/div[2]/div/div/div[1]/div[4]/div/div/label/select/option[4]').click()\n",
    "\n",
    "        sleep(1)\n",
    "        \n",
    "    except:\n",
    "        pass\n",
    "    else:\n",
    "        break"
   ]
  },
  {
   "cell_type": "code",
   "execution_count": 8,
   "metadata": {},
   "outputs": [],
   "source": [
    "while True:\n",
    "    try:\n",
    "        table = browser.find_element_by_class_name('nba-stat-table__overflow')\n",
    "        sleep(1)\n",
    "    \n",
    "    except:\n",
    "        pass\n",
    "    else:\n",
    "        break\n",
    "\n",
    "\n",
    "\n",
    "\n",
    "#table = browser.find_element_by_xpath('/html/body/main/div[2]/div/div[2]/div/div/nba-stat-table/div[2]/div[1]')\n",
    "table_html = table.get_attribute('innerHTML')\n",
    "df = pd.read_html(table_html, header=1, index_col='Team')\n",
    "off_wide = df[0]\n",
    "off_wide.to_csv('offwide2019.csv')"
   ]
  },
  {
   "cell_type": "code",
   "execution_count": 9,
   "metadata": {},
   "outputs": [],
   "source": [
    "while True:\n",
    "    try:\n",
    "\n",
    "        #Navigating to Opponent Shooting\n",
    "        browser.find_element_by_xpath('/html/body/main/div[2]/div/div[2]/div/nav-dropdown/nav/section[2]/div/a').click()\n",
    "        browser.find_element_by_xpath('/html/body/main/div[2]/div/div[2]/div/nav-dropdown/nav/section[2]/ul/li[9]/a/span').click()\n",
    "\n",
    "        #Overall Oppponent Shooting Menu\n",
    "        browser.find_element_by_xpath('/html/body/main/div[2]/div/div[2]/div/nav-dropdown/nav/section[2]/div/a').click()\n",
    "\n",
    "        browser.find_element_by_xpath('/html/body/main/div[2]/div/div[2]/div/nav-dropdown/nav/section[2]/ul/li[9]/a').click()\n",
    "\n",
    "        #Navigating to Closest Defender\n",
    "        browser.find_element_by_xpath('/html/body/main/div[2]/div/div[2]/div/nav-dropdown/nav/section[8]/div/a').click()\n",
    "        browser.find_element_by_xpath('/html/body/main/div[2]/div/div[2]/div/nav-dropdown/nav/section[8]/ul/li[6]/a/span').click()\n",
    "\n",
    "        #Navigate to Open\n",
    "        browser.find_element_by_xpath('/html/body/main/div[2]/div/div[2]/div/div/div[1]/div[4]/div/div/label/select/option[3]').click()\n",
    "        \n",
    "    \n",
    "    except:\n",
    "        pass\n",
    "    else:\n",
    "        break\n",
    "        \n",
    "    "
   ]
  },
  {
   "cell_type": "code",
   "execution_count": 10,
   "metadata": {},
   "outputs": [],
   "source": [
    "while True:\n",
    "    try:\n",
    "        table = browser.find_element_by_class_name('nba-stat-table__overflow')\n",
    "        sleep(1)\n",
    "            \n",
    "    except:\n",
    "        pass\n",
    "    else:\n",
    "        break\n",
    "        \n",
    "#table = browser.find_element_by_xpath('/html/body/main/div[2]/div/div[2]/div/div/nba-stat-table/div[2]/div[1]')\n",
    "table_html = table.get_attribute('innerHTML')\n",
    "df = pd.read_html(table_html, header=1, index_col='Team')\n",
    "def_open = df[0]\n",
    "def_open.to_csv('defopen2019.csv')"
   ]
  },
  {
   "cell_type": "code",
   "execution_count": 11,
   "metadata": {},
   "outputs": [],
   "source": [
    "while True:\n",
    "    try:\n",
    "        #Wide open ()\n",
    "        browser.find_element_by_xpath('/html/body/main/div[2]/div/div[2]/div/div/div[1]/div[4]/div/div/label/select/option[4]').click()\n",
    "        sleep(1)\n",
    "            \n",
    "    except:\n",
    "        pass\n",
    "    else:\n",
    "        break\n"
   ]
  },
  {
   "cell_type": "code",
   "execution_count": 12,
   "metadata": {},
   "outputs": [],
   "source": [
    "while True:\n",
    "    try:\n",
    "        table = browser.find_element_by_class_name('nba-stat-table__overflow')\n",
    "        sleep(1)\n",
    "            \n",
    "    except:\n",
    "        pass\n",
    "    else:\n",
    "        break\n",
    "\n",
    "#table = browser.find_element_by_xpath('/html/body/main/div[2]/div/div[2]/div/div/nba-stat-table/div[2]/div[1]')\n",
    "\n",
    "\n",
    "table_html = table.get_attribute('innerHTML')\n",
    "df = pd.read_html(table_html, header=1, index_col='Team')\n",
    "def_wide = df[0]\n",
    "def_wide.to_csv('defwide2019.csv')"
   ]
  },
  {
   "cell_type": "code",
   "execution_count": 13,
   "metadata": {},
   "outputs": [],
   "source": [
    "while True:\n",
    "    try:\n",
    "        #Navigating to by Zone Offenisve shooting\n",
    "\n",
    "        #clicking on the general menu\n",
    "        browser.find_element_by_xpath('/html/body/main/div[1]/div/nav/div[1]/i').click()\n",
    "\n",
    "        #selecting teams tab\n",
    "        browser.find_element_by_xpath('/html/body/main/nav/section/div[10]/h4').click()\n",
    "\n",
    "        #shooting submenu\n",
    "        browser.find_element_by_xpath('/html/body/main/nav/section/section[8]/ul/li[10]/a').click()\n",
    "\n",
    "        #'Shooting'\n",
    "        browser.find_element_by_xpath('/html/body/main/nav/section/section[8]/ul/section[6]/ul/li[7]/a').click()\n",
    "\n",
    "        #distance range ---> \n",
    "        browser.find_element_by_xpath('/html/body/main/div[2]/div/div[2]/div/div/div[1]/div[4]/div/div/label/select/option[3]').click()\n",
    "        sleep(1)\n",
    "        \n",
    "    except:\n",
    "        pass\n",
    "    else:\n",
    "        break\n",
    "\n"
   ]
  },
  {
   "cell_type": "code",
   "execution_count": 14,
   "metadata": {},
   "outputs": [],
   "source": [
    "while True:\n",
    "    try:\n",
    "        table = browser.find_element_by_class_name('nba-stat-table__overflow')\n",
    "        sleep(1)\n",
    "            \n",
    "    except:\n",
    "        pass\n",
    "    else:\n",
    "        break\n",
    "        \n",
    "table_html = table.get_attribute('innerHTML')\n",
    "df = pd.read_html(table_html, header=5, index_col='TEAM')\n",
    "#df = pd.read_html(table_html)\n",
    "off_shooting_zone = df[0]\n",
    "off_shooting_zone = off_shooting_zone.dropna(axis=0)\n",
    "off_shooting_zone.index.names = ['Team']\n",
    "\n",
    "\n",
    "off_shooting_zone.to_csv('offshootingzone2019.csv')"
   ]
  },
  {
   "cell_type": "code",
   "execution_count": 20,
   "metadata": {},
   "outputs": [],
   "source": [
    "#off_shooting_zone.head(n=65)"
   ]
  },
  {
   "cell_type": "code",
   "execution_count": 16,
   "metadata": {},
   "outputs": [],
   "source": [
    "while True:\n",
    "    try:\n",
    "        \n",
    "        #Navigating to By Zone Deffenisve shooting\n",
    "\n",
    "        #clicking on the general menu\n",
    "        browser.find_element_by_xpath('/html/body/main/div[1]/div/nav/div[1]/i').click()\n",
    "\n",
    "        #selecting teams tab\n",
    "        browser.find_element_by_xpath('/html/body/main/nav/section/div[10]/h4').click()\n",
    "\n",
    "        #defensive shooting submenu\n",
    "        browser.find_element_by_xpath('/html/body/main/nav/section/section[8]/ul/li[11]/a').click()\n",
    "\n",
    "        #'Shooting'\n",
    "        browser.find_element_by_xpath('/html/body/main/nav/section/section[8]/ul/section[7]/ul/li[1]/a').click()\n",
    "\n",
    "        #distance range ---> \n",
    "        browser.find_element_by_xpath('/html/body/main/div[2]/div/div[2]/div/div/div[1]/div[4]/div/div/label/select/option[3]').click()\n",
    "\n",
    "        sleep(1)\n",
    "            \n",
    "    except:\n",
    "        pass\n",
    "    else:\n",
    "        break\n"
   ]
  },
  {
   "cell_type": "code",
   "execution_count": 17,
   "metadata": {},
   "outputs": [],
   "source": [
    "while True:\n",
    "    try:\n",
    "        table = browser.find_element_by_class_name('nba-stat-table__overflow')\n",
    "        sleep(1)\n",
    "            \n",
    "    except:\n",
    "        pass\n",
    "    else:\n",
    "        break\n",
    "        \n",
    "table_html = table.get_attribute('innerHTML')\n",
    "df = pd.read_html(table_html, header=5, index_col='Team')\n",
    "#df = pd.read_html(table_html)\n",
    "def_shooting_zone = df[0]\n",
    "def_shooting_zone = def_shooting_zone.dropna(axis=0)\n",
    "\n",
    "\n",
    "def_shooting_zone.to_csv('defshootingzone2019.csv')"
   ]
  },
  {
   "cell_type": "code",
   "execution_count": 19,
   "metadata": {},
   "outputs": [],
   "source": [
    "#def_shooting_zone"
   ]
  },
  {
   "cell_type": "code",
   "execution_count": null,
   "metadata": {},
   "outputs": [],
   "source": []
  },
  {
   "cell_type": "code",
   "execution_count": null,
   "metadata": {},
   "outputs": [],
   "source": []
  }
 ],
 "metadata": {
  "kernelspec": {
   "display_name": "Python 3",
   "language": "python",
   "name": "python3"
  },
  "language_info": {
   "codemirror_mode": {
    "name": "ipython",
    "version": 3
   },
   "file_extension": ".py",
   "mimetype": "text/x-python",
   "name": "python",
   "nbconvert_exporter": "python",
   "pygments_lexer": "ipython3",
   "version": "3.7.0"
  }
 },
 "nbformat": 4,
 "nbformat_minor": 2
}
